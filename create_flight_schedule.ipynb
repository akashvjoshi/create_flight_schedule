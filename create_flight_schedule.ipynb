{
 "cells": [
  {
   "cell_type": "markdown",
   "metadata": {},
   "source": [
    "Three airport details are as below:"
   ]
  },
  {
   "cell_type": "code",
   "execution_count": 32,
   "metadata": {
    "collapsed": true
   },
   "outputs": [],
   "source": [
    "source_airport = ['AUS', 'DAL' , 'HOU']\n",
    "destination_airport = ['AUS', 'DAL' , 'HOU']"
   ]
  },
  {
   "cell_type": "markdown",
   "metadata": {},
   "source": [
    "Aircrafts and their tail numbers are as below:"
   ]
  },
  {
   "cell_type": "code",
   "execution_count": 33,
   "metadata": {
    "collapsed": true
   },
   "outputs": [],
   "source": [
    "tails = ['T1', 'T2', 'T3', 'T4', 'T5', 'T6']"
   ]
  },
  {
   "cell_type": "markdown",
   "metadata": {},
   "source": [
    "Flight times among airports are as below:"
   ]
  },
  {
   "cell_type": "code",
   "execution_count": 34,
   "metadata": {
    "collapsed": true
   },
   "outputs": [],
   "source": [
    "flight_times = {'AUSDAL' : 50, 'AUSHOU' : 45, 'DALHOU' : 65, 'DALAUS' : 50, 'HOUAUS' : 45, 'HOUDAL' : 65}"
   ]
  },
  {
   "cell_type": "markdown",
   "metadata": {},
   "source": [
    "Number of gates at each airport is as follows:"
   ]
  },
  {
   "cell_type": "code",
   "execution_count": 35,
   "metadata": {
    "collapsed": true
   },
   "outputs": [],
   "source": [
    "gates = {'AUS' : 1, 'DAL' : 2, 'HOU' : 3}"
   ]
  },
  {
   "cell_type": "markdown",
   "metadata": {},
   "source": [
    "Minimum ground time at each airport is as below:"
   ]
  },
  {
   "cell_type": "code",
   "execution_count": 36,
   "metadata": {
    "collapsed": true
   },
   "outputs": [],
   "source": [
    "ground_time = {'AUS' : 25, 'DAL' : 30, 'HOU' : 35}"
   ]
  },
  {
   "cell_type": "markdown",
   "metadata": {},
   "source": [
    "Setup Initial list called flights where all the flight details can be saved as elements of the list"
   ]
  },
  {
   "cell_type": "code",
   "execution_count": 37,
   "metadata": {
    "collapsed": true
   },
   "outputs": [],
   "source": [
    "flights = []"
   ]
  },
  {
   "cell_type": "markdown",
   "metadata": {},
   "source": [
    "Start_time and end_time are set below because all the flights cannot take off before 6:00 am and they cannot take off or land after 10:00 pm."
   ]
  },
  {
   "cell_type": "code",
   "execution_count": 38,
   "metadata": {
    "collapsed": true
   },
   "outputs": [],
   "source": [
    "start_time = 360\n",
    "end_time = 1320"
   ]
  },
  {
   "cell_type": "markdown",
   "metadata": {},
   "source": [
    "Below is the function to convert normal timings to military times:"
   ]
  },
  {
   "cell_type": "code",
   "execution_count": 39,
   "metadata": {
    "collapsed": true
   },
   "outputs": [],
   "source": [
    "def militarytimes(mins):\n",
    "    if mins < 720:\n",
    "        hour = mins // 60 \n",
    "        minute = mins % 60\n",
    "        return(\"{0:02d}{1:02d}\".format(hour, minute))\n",
    "    elif mins == 720:\n",
    "        hour = 1200\n",
    "        return(\"1200\")\n",
    "    else:\n",
    "        hour = ((mins-720) // 60) + 12\n",
    "        minute = (mins) % 60\n",
    "        return(\"{0:02d}{1:02d}\".format(hour, minute))"
   ]
  },
  {
   "cell_type": "markdown",
   "metadata": {},
   "source": [
    "Schedule for tail T1 from Austin to Houston and vice-versa"
   ]
  },
  {
   "cell_type": "code",
   "execution_count": 40,
   "metadata": {},
   "outputs": [],
   "source": [
    "start_time = 360\n",
    "departure_A_T1 = start_time\n",
    "\n",
    "while start_time < end_time:\n",
    "    arrival_H_T1 = departure_A_T1 + flight_times['AUSHOU']\n",
    "    flights.append([tails[0], source_airport[0] , destination_airport[2] , militarytimes(departure_A_T1), militarytimes(arrival_H_T1)])\n",
    "    departure_H_T1 = arrival_H_T1 + ground_time['HOU']\n",
    "    arrival_A_T1 = departure_H_T1 + flight_times['HOUAUS']\n",
    "    if (arrival_A_T1 + ground_time['AUS'] )  > end_time:\n",
    "        break\n",
    "    flights.append([tails[0], source_airport[2] , destination_airport[0] , militarytimes(departure_H_T1), militarytimes(arrival_A_T1)])\n",
    "    departure_A_T1 = arrival_A_T1 + ground_time['AUS']\n",
    "    \n",
    "    start_time = departure_A_T1\n",
    "    \n",
    "final_schedule = '\\n'.join(map(str,flights))"
   ]
  },
  {
   "cell_type": "markdown",
   "metadata": {
    "collapsed": true
   },
   "source": [
    "Schedule for tail T2 from Dallas to Houston and vice-versa"
   ]
  },
  {
   "cell_type": "code",
   "execution_count": 41,
   "metadata": {
    "collapsed": true
   },
   "outputs": [],
   "source": [
    "start_time = 360\n",
    "departure_D_T2 = start_time\n",
    "\n",
    "while start_time < end_time:\n",
    "    arrival_H_T2 = departure_D_T2 + flight_times['DALHOU']\n",
    "    flights.append([tails[1], source_airport[1] , destination_airport[2] , militarytimes(departure_D_T2), militarytimes(arrival_H_T2)])\n",
    "    departure_H_T2 = arrival_H_T2 + ground_time['HOU']\n",
    "    arrival_D_T2 = departure_H_T2 + flight_times['HOUDAL']\n",
    "    flights.append([tails[1], source_airport[2] , destination_airport[1] , militarytimes(departure_H_T2), militarytimes(arrival_D_T2)])\n",
    "    departure_D_T2 = arrival_D_T2 + ground_time['DAL']\n",
    "    start_time = departure_D_T2\n",
    "final_schedule = '\\n'.join(map(str,flights))"
   ]
  },
  {
   "cell_type": "markdown",
   "metadata": {},
   "source": [
    "Schedule for T3 from Dallas to Houston and vice-versa"
   ]
  },
  {
   "cell_type": "code",
   "execution_count": 42,
   "metadata": {
    "collapsed": true
   },
   "outputs": [],
   "source": [
    "start_time = 360\n",
    "departure_D_T3 = start_time\n",
    "\n",
    "while start_time < end_time:\n",
    "    arrival_H_T3 = departure_D_T3 + flight_times['DALHOU']\n",
    "    flights.append([tails[2], source_airport[1] , destination_airport[2] , militarytimes(departure_D_T3), militarytimes(arrival_H_T3)])\n",
    "    departure_H_T3 = arrival_H_T3 + ground_time['HOU']\n",
    "    arrival_D_T3 = departure_H_T3 + flight_times['HOUDAL']\n",
    "    flights.append([tails[2], source_airport[2] , destination_airport[1] , militarytimes(departure_H_T3), militarytimes(arrival_D_T3)])\n",
    "    departure_D_T3 = arrival_D_T3 + ground_time['DAL']\n",
    "    start_time = departure_D_T3\n",
    "final_schedule = '\\n'.join(map(str,flights))"
   ]
  },
  {
   "cell_type": "markdown",
   "metadata": {},
   "source": [
    "Schedule for T4 from Houston to Austin and vice-versa"
   ]
  },
  {
   "cell_type": "code",
   "execution_count": 43,
   "metadata": {
    "collapsed": true
   },
   "outputs": [],
   "source": [
    "start_time = 360\n",
    "departure_H_T4 = start_time\n",
    "\n",
    "while start_time < end_time:\n",
    "    arrival_A_T4 = departure_H_T4 + flight_times['HOUAUS']\n",
    "    flights.append([tails[3], source_airport[2] , destination_airport[0] , militarytimes(departure_H_T4), militarytimes(arrival_A_T4)])\n",
    "    departure_A_T4 = arrival_A_T4 + ground_time['AUS']\n",
    "    arrival_H_T4 = departure_A_T4 + flight_times['AUSHOU']\n",
    "    if (arrival_H_T4 + ground_time['HOU'] )  > end_time:\n",
    "        break\n",
    "    flights.append([tails[3], source_airport[0] , destination_airport[2] , militarytimes(departure_A_T4), militarytimes(arrival_H_T4)])\n",
    "    departure_H_T4 = arrival_H_T4 + ground_time['HOU']\n",
    "    start_time = departure_H_T4\n",
    "final_schedule = '\\n'.join(map(str,flights))"
   ]
  },
  {
   "cell_type": "markdown",
   "metadata": {},
   "source": [
    "Schedule for T5 from Houston to Dallas and vice-versa"
   ]
  },
  {
   "cell_type": "code",
   "execution_count": 44,
   "metadata": {
    "collapsed": true
   },
   "outputs": [],
   "source": [
    "start_time = 360\n",
    "departure_H_T5 = start_time\n",
    "\n",
    "while start_time < end_time:\n",
    "    arrival_D_T5 = departure_H_T5 + flight_times['HOUDAL']\n",
    "    flights.append([tails[4], source_airport[2] , destination_airport[1] , militarytimes(departure_H_T5), militarytimes(arrival_D_T5)])\n",
    "    departure_D_T5 = arrival_D_T5 + ground_time['DAL']\n",
    "    arrival_H_T5 = departure_D_T5 + flight_times['DALHOU']\n",
    "    flights.append([tails[4], source_airport[1] , destination_airport[2] , militarytimes(departure_D_T5), militarytimes(arrival_H_T5)])\n",
    "    departure_H_T5 = arrival_H_T5 + ground_time['HOU']\n",
    "    start_time = departure_H_T5\n",
    "final_schedule = '\\n'.join(map(str,flights))"
   ]
  },
  {
   "cell_type": "markdown",
   "metadata": {},
   "source": [
    "Schedule for T6 from Houston to Dallas and vice-versa"
   ]
  },
  {
   "cell_type": "code",
   "execution_count": 45,
   "metadata": {
    "collapsed": true
   },
   "outputs": [],
   "source": [
    "start_time = 360\n",
    "departure_H_T6 = start_time\n",
    "\n",
    "while start_time < end_time:\n",
    "    arrival_D_T6 = departure_H_T6 + flight_times['HOUDAL']\n",
    "    flights.append([tails[5], source_airport[2] , destination_airport[1] , militarytimes(departure_H_T6), militarytimes(arrival_D_T6)])\n",
    "    departure_D_T6 = arrival_D_T6 + ground_time['DAL']\n",
    "    arrival_H_T6 = departure_D_T6 + flight_times['DALHOU']\n",
    "    flights.append([tails[5], source_airport[1] , destination_airport[2] , militarytimes(departure_D_T6), militarytimes(arrival_H_T6)])\n",
    "    departure_H_T6 = arrival_H_T6 + ground_time['HOU']\n",
    "    start_time = departure_H_T6\n",
    "final_schedule = '\\n'.join(map(str,flights))"
   ]
  },
  {
   "cell_type": "markdown",
   "metadata": {},
   "source": [
    "Exporting the data to csv file"
   ]
  },
  {
   "cell_type": "code",
   "execution_count": 46,
   "metadata": {
    "collapsed": true
   },
   "outputs": [],
   "source": [
    "import csv\n",
    "csv_header = 'tail_number,origin,destination,departure_time,arrival_time'\n",
    "csvfile = \"flight_schedule.csv\"\n",
    "with open(csvfile, \"w\") as output:\n",
    "    print(csv_header, file = output)\n",
    "    writer = csv.writer(output, lineterminator='\\n')\n",
    "    writer.writerows(flights)"
   ]
  },
  {
   "cell_type": "code",
   "execution_count": null,
   "metadata": {
    "collapsed": true
   },
   "outputs": [],
   "source": []
  }
 ],
 "metadata": {
  "kernelspec": {
   "display_name": "Python 3",
   "language": "python",
   "name": "python3"
  },
  "language_info": {
   "codemirror_mode": {
    "name": "ipython",
    "version": 3
   },
   "file_extension": ".py",
   "mimetype": "text/x-python",
   "name": "python",
   "nbconvert_exporter": "python",
   "pygments_lexer": "ipython3",
   "version": "3.6.1"
  }
 },
 "nbformat": 4,
 "nbformat_minor": 2
}
